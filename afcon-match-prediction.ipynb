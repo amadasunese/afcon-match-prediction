{
 "cells": [
  {
   "cell_type": "markdown",
   "metadata": {},
   "source": [
    "## AFCON Match Outcome Predictor"
   ]
  },
  {
   "cell_type": "code",
   "execution_count": 17,
   "metadata": {},
   "outputs": [],
   "source": [
    "import pandas as pd\n",
    "from sklearn.preprocessing import LabelEncoder\n",
    "from sklearn.model_selection import train_test_split\n",
    "from sklearn.ensemble import RandomForestClassifier\n",
    "from sklearn.metrics import classification_report, accuracy_score\n",
    "import joblib"
   ]
  },
  {
   "cell_type": "code",
   "execution_count": 18,
   "metadata": {},
   "outputs": [
    {
     "data": {
      "text/plain": [
       "(   Year      Date  Time  HomeTeam   AwayTeam  HomeTeamGoals  AwayTeamGoals  \\\n",
       " 0  1957  10-Feb-57   NaN   Sudan       Egypt              1              2   \n",
       " 1  1957  16-Feb-57   NaN   Egypt    Ethiopia              4              0   \n",
       " 2  1959  22-May-59   NaN    Egypt   Ethiopia              4              0   \n",
       " 3  1959  25-May-59   NaN   Sudan    Ethiopia              1              0   \n",
       " 4  1959  29-May-59   NaN    Egypt      Sudan              2              1   \n",
       " \n",
       "          Stage        Date  HomeTeam_encoded  AwayTeam_encoded  Stage_encoded  \\\n",
       " 0  Semi-finals  10/02/2057                36                13             12   \n",
       " 1        Final  16/02/2057                12                15              0   \n",
       " 2        Final  22/05/2059                11                15              1   \n",
       " 3        Final  25/05/2059                36                15              1   \n",
       " 4        Final  29/05/2059                11                38              1   \n",
       " \n",
       "    MatchOutcome  \n",
       " 0            -1  \n",
       " 1             1  \n",
       " 2             1  \n",
       " 3             1  \n",
       " 4             1  ,\n",
       "    Unnamed: 0  Year ShirtNumber PlayerPosition                     PlayerName  \\\n",
       " 0           0  1957         NaN             GK                       Ali Bakr   \n",
       " 1           1  1957         NaN             GK  Paraskos \"Brascos\" Trimeritis   \n",
       " 2           2  1957         NaN             GK            Abdel-Galil Hameida   \n",
       " 3           3  1957         NaN             DF                   Mosaad Daoud   \n",
       " 4           4  1957         NaN             DF              El-Sayed El-Arabi   \n",
       " \n",
       "   DateofBirth(age) Caps Goals       Club Country  \n",
       " 0              NaN  NaN   NaN    Zamalek   Egypt  \n",
       " 1              NaN  NaN   NaN   El-Qanah   Egypt  \n",
       " 2              NaN  NaN   NaN    Al-Ahly   Egypt  \n",
       " 3              NaN  NaN   NaN  El-Olympi   Egypt  \n",
       " 4              NaN  NaN   NaN      Teram   Egypt  ,\n",
       "    Rank          Team  Part  Pld   W   D   L   GF   GA   GD  Pts\n",
       " 0     1  Egypt  [n 1]    25  107  60  20  27  168   90  +78  200\n",
       " 1     2         Ghana    23  102  54  21  27  133   87  +46  183\n",
       " 2     3       Nigeria    19   97  53  22  22  137   91  +46  181\n",
       " 3     4      Cameroon    20   91  45  30  16  137   82  +55  165\n",
       " 4     5   Ivory Coast    24   99  44  30  25  143  101  +42  162,\n",
       "    Year                                  Debuting teams Debuting teams.1  \\\n",
       " 0  Year                                           Teams              No.   \n",
       " 1  1957                    Egypt  ,  Ethiopia  ,  Sudan                3   \n",
       " 2  1962                              Tunisia  ,  Uganda                2   \n",
       " 3  1963                               Ghana  ,  Nigeria                2   \n",
       " 4  1965  Congo-Léopoldville  ,  Ivory Coast  ,  Senegal                3   \n",
       " \n",
       "   Debuting teams.2  \n",
       " 0             Cum.  \n",
       " 1                3  \n",
       " 2                5  \n",
       " 3                7  \n",
       " 4               10  )"
      ]
     },
     "execution_count": 18,
     "metadata": {},
     "output_type": "execute_result"
    }
   ],
   "source": [
    "# Load the datasets \n",
    "\n",
    "matches_df = pd.read_csv('datasets/Matches.csv')\n",
    "players_df = pd.read_csv('datasets/Players.csv')\n",
    "team_stats_df = pd.read_csv('datasets/Participated_Team.csv')\n",
    "tournament_stats_df = pd.read_csv('datasets/Tournaments.csv')\n",
    "\n",
    "# Displaying the first few rows of each dataset to understand their structure\n",
    "(matches_df.head(), players_df.head(), team_stats_df.head(), tournament_stats_df.head())"
   ]
  },
  {
   "cell_type": "markdown",
   "metadata": {},
   "source": [
    "Matches Dataset: This dataset includes details about each match, such as the year, date, teams involved, goals scored, and the match stage. Key columns are 'Year', 'HomeTeam', 'AwayTeam', 'HomeTeamGoals', 'AwayTeamGoals', etc.\n",
    "\n",
    "Players Dataset: This dataset lists players who participated in the tournament, including their positions, names, birth dates, caps, goals, clubs, and countries. Key columns include 'Year', 'PlayerPosition', 'PlayerName', 'Club', 'Country', etc.\n",
    "\n",
    "Team Statistics Dataset: This dataset provides general statistics for each team that participated in the tournaments, such as the number of times participated, games played, wins, draws, losses, goals for and against, etc. Key columns are 'Team', 'Part', 'Pld', 'W', 'D', 'L', 'GF', 'GA', 'GD', 'Pts'.\n",
    "\n",
    "Tournament Statistics Dataset: This dataset includes information about debut teams for each tournament year. Key columns are 'Year', 'Debuting teams'."
   ]
  },
  {
   "cell_type": "code",
   "execution_count": 14,
   "metadata": {},
   "outputs": [
    {
     "data": {
      "text/plain": [
       "Index(['Year', 'Date ', 'Time ', 'HomeTeam', 'AwayTeam', 'HomeTeamGoals',\n",
       "       'AwayTeamGoals', 'Stage', 'Date', 'HomeTeam_encoded',\n",
       "       'AwayTeam_encoded', 'Stage_encoded', 'MatchOutcome'],\n",
       "      dtype='object')"
      ]
     },
     "execution_count": 14,
     "metadata": {},
     "output_type": "execute_result"
    }
   ],
   "source": [
    "matches_df.columns"
   ]
  },
  {
   "cell_type": "markdown",
   "metadata": {},
   "source": [
    "## Data preprocessing"
   ]
  },
  {
   "cell_type": "code",
   "execution_count": 15,
   "metadata": {},
   "outputs": [
    {
     "data": {
      "text/plain": [
       "(Year                         int64\n",
       " Date                        object\n",
       " Time                        object\n",
       " HomeTeam                    object\n",
       " AwayTeam                    object\n",
       " HomeTeamGoals                int64\n",
       " AwayTeamGoals                int64\n",
       " Stage                       object\n",
       " Date                datetime64[ns]\n",
       " HomeTeam_encoded             int64\n",
       " AwayTeam_encoded             int64\n",
       " Stage_encoded                int64\n",
       " MatchOutcome                 int64\n",
       " dtype: object,\n",
       " Unnamed: 0                   int64\n",
       " Year                         int64\n",
       " ShirtNumber                 object\n",
       " PlayerPosition              object\n",
       " PlayerName                  object\n",
       " DateofBirth(age)    datetime64[ns]\n",
       " Caps                        object\n",
       " Goals                       object\n",
       " Club                        object\n",
       " Country                     object\n",
       " dtype: object,\n",
       " Rank     int64\n",
       " Team    object\n",
       " Part     int64\n",
       " Pld      int64\n",
       " W        int64\n",
       " D        int64\n",
       " L        int64\n",
       " GF       int64\n",
       " GA       int64\n",
       " GD      object\n",
       " Pts      int64\n",
       " dtype: object,\n",
       " Year                object\n",
       " Debuting teams      object\n",
       " Debuting teams.1    object\n",
       " Debuting teams.2    object\n",
       " dtype: object,\n",
       " Year                  0\n",
       " Date                  0\n",
       " Time                288\n",
       " HomeTeam              0\n",
       " AwayTeam              0\n",
       " HomeTeamGoals         0\n",
       " AwayTeamGoals         0\n",
       " Stage                 0\n",
       " Date                136\n",
       " HomeTeam_encoded      0\n",
       " AwayTeam_encoded      0\n",
       " Stage_encoded         0\n",
       " MatchOutcome          0\n",
       " dtype: int64,\n",
       " Unnamed: 0             0\n",
       " Year                   0\n",
       " ShirtNumber         2466\n",
       " PlayerPosition       389\n",
       " PlayerName            42\n",
       " DateofBirth(age)    8146\n",
       " Caps                5445\n",
       " Goals               7142\n",
       " Club                 805\n",
       " Country                0\n",
       " dtype: int64,\n",
       " Rank    0\n",
       " Team    0\n",
       " Part    0\n",
       " Pld     0\n",
       " W       0\n",
       " D       0\n",
       " L       0\n",
       " GF      0\n",
       " GA      0\n",
       " GD      0\n",
       " Pts     0\n",
       " dtype: int64,\n",
       " Year                0\n",
       " Debuting teams      0\n",
       " Debuting teams.1    0\n",
       " Debuting teams.2    0\n",
       " dtype: int64)"
      ]
     },
     "execution_count": 15,
     "metadata": {},
     "output_type": "execute_result"
    }
   ],
   "source": [
    "# Handling missing values and data types in Matches dataset\n",
    "matches_df = matches_df.dropna(subset=['HomeTeamGoals', 'AwayTeamGoals'])\n",
    "matches_df['Date'] = pd.to_datetime(matches_df['Date '], errors='coerce')\n",
    "\n",
    "# For Players dataset, we might not need detailed player info for predicting match outcomes, but let's clean it\n",
    "players_df['DateofBirth(age)'] = pd.to_datetime(players_df['DateofBirth(age)'], errors='coerce')\n",
    "\n",
    "# For Team and Tournament stats\n",
    "# Removing unnecessary columns and cleaning data\n",
    "team_stats_df = team_stats_df.dropna()\n",
    "tournament_stats_df = tournament_stats_df.dropna()\n",
    "\n",
    "# Checking the data types and missing values after preprocessing\n",
    "(matches_df.dtypes, players_df.dtypes, team_stats_df.dtypes, tournament_stats_df.dtypes,\n",
    " matches_df.isnull().sum(), players_df.isnull().sum(), team_stats_df.isnull().sum(), tournament_stats_df.isnull().sum())\n"
   ]
  },
  {
   "cell_type": "markdown",
   "metadata": {},
   "source": [
    "atches Dataset:\n",
    "Converted 'Date' to datetime format.\n",
    "Removed rows with missing values in 'HomeTeamGoals' and 'AwayTeamGoals'.\n",
    "Some columns like 'Time', 'SpecialWinConditions', and 'Attendance' still have missing values, which might not be critical for our model.\n",
    "Players Dataset:\n",
    "Converted 'DateofBirth(age)' to datetime format.\n",
    "There are missing values in several columns, but for predicting match outcomes, we may not need detailed player info.\n",
    "Team Statistics Dataset:\n",
    "Cleaned and no missing values.\n",
    "Tournament Statistics Dataset:\n",
    "Cleaned and no missing values."
   ]
  },
  {
   "cell_type": "markdown",
   "metadata": {},
   "source": [
    "## Feature engineering"
   ]
  },
  {
   "cell_type": "code",
   "execution_count": 16,
   "metadata": {},
   "outputs": [
    {
     "ename": "KeyError",
     "evalue": "\"['SpecialWinConditions', 'Stadium', 'City', 'Attendance'] not found in axis\"",
     "output_type": "error",
     "traceback": [
      "\u001b[0;31m---------------------------------------------------------------------------\u001b[0m",
      "\u001b[0;31mKeyError\u001b[0m                                  Traceback (most recent call last)",
      "\u001b[1;32m/Users/apple/afcon-match-prediction/afcon-match-prediction.ipynb Cell 10\u001b[0m line \u001b[0;36m<cell line: 15>\u001b[0;34m()\u001b[0m\n\u001b[1;32m      <a href='vscode-notebook-cell:/Users/apple/afcon-match-prediction/afcon-match-prediction.ipynb#X12sZmlsZQ%3D%3D?line=8'>9</a>\u001b[0m matches_df[\u001b[39m'\u001b[39m\u001b[39mMatchOutcome\u001b[39m\u001b[39m'\u001b[39m] \u001b[39m=\u001b[39m matches_df\u001b[39m.\u001b[39mapply(\n\u001b[1;32m     <a href='vscode-notebook-cell:/Users/apple/afcon-match-prediction/afcon-match-prediction.ipynb#X12sZmlsZQ%3D%3D?line=9'>10</a>\u001b[0m     \u001b[39mlambda\u001b[39;00m row: \u001b[39m1\u001b[39m \u001b[39mif\u001b[39;00m row[\u001b[39m'\u001b[39m\u001b[39mHomeTeamGoals\u001b[39m\u001b[39m'\u001b[39m] \u001b[39m>\u001b[39m row[\u001b[39m'\u001b[39m\u001b[39mAwayTeamGoals\u001b[39m\u001b[39m'\u001b[39m] \u001b[39melse\u001b[39;00m \n\u001b[1;32m     <a href='vscode-notebook-cell:/Users/apple/afcon-match-prediction/afcon-match-prediction.ipynb#X12sZmlsZQ%3D%3D?line=10'>11</a>\u001b[0m                 (\u001b[39m-\u001b[39m\u001b[39m1\u001b[39m \u001b[39mif\u001b[39;00m row[\u001b[39m'\u001b[39m\u001b[39mHomeTeamGoals\u001b[39m\u001b[39m'\u001b[39m] \u001b[39m<\u001b[39m row[\u001b[39m'\u001b[39m\u001b[39mAwayTeamGoals\u001b[39m\u001b[39m'\u001b[39m] \u001b[39melse\u001b[39;00m \u001b[39m0\u001b[39m), \n\u001b[1;32m     <a href='vscode-notebook-cell:/Users/apple/afcon-match-prediction/afcon-match-prediction.ipynb#X12sZmlsZQ%3D%3D?line=11'>12</a>\u001b[0m     axis\u001b[39m=\u001b[39m\u001b[39m1\u001b[39m)\n\u001b[1;32m     <a href='vscode-notebook-cell:/Users/apple/afcon-match-prediction/afcon-match-prediction.ipynb#X12sZmlsZQ%3D%3D?line=13'>14</a>\u001b[0m \u001b[39m# Dropping columns not used for prediction\u001b[39;00m\n\u001b[0;32m---> <a href='vscode-notebook-cell:/Users/apple/afcon-match-prediction/afcon-match-prediction.ipynb#X12sZmlsZQ%3D%3D?line=14'>15</a>\u001b[0m matches_df\u001b[39m.\u001b[39;49mdrop(columns\u001b[39m=\u001b[39;49m[\u001b[39m'\u001b[39;49m\u001b[39mSpecialWinConditions\u001b[39;49m\u001b[39m'\u001b[39;49m, \u001b[39m'\u001b[39;49m\u001b[39mStadium\u001b[39;49m\u001b[39m'\u001b[39;49m, \u001b[39m'\u001b[39;49m\u001b[39mCity\u001b[39;49m\u001b[39m'\u001b[39;49m, \u001b[39m'\u001b[39;49m\u001b[39mAttendance\u001b[39;49m\u001b[39m'\u001b[39;49m], inplace\u001b[39m=\u001b[39;49m\u001b[39mTrue\u001b[39;49;00m)\n\u001b[1;32m     <a href='vscode-notebook-cell:/Users/apple/afcon-match-prediction/afcon-match-prediction.ipynb#X12sZmlsZQ%3D%3D?line=17'>18</a>\u001b[0m \u001b[39m# Verifying the dataset after dropping columns\u001b[39;00m\n\u001b[1;32m     <a href='vscode-notebook-cell:/Users/apple/afcon-match-prediction/afcon-match-prediction.ipynb#X12sZmlsZQ%3D%3D?line=18'>19</a>\u001b[0m matches_df\u001b[39m.\u001b[39mhead()\n",
      "File \u001b[0;32m~/opt/anaconda3/lib/python3.9/site-packages/pandas/util/_decorators.py:311\u001b[0m, in \u001b[0;36mdeprecate_nonkeyword_arguments.<locals>.decorate.<locals>.wrapper\u001b[0;34m(*args, **kwargs)\u001b[0m\n\u001b[1;32m    305\u001b[0m \u001b[39mif\u001b[39;00m \u001b[39mlen\u001b[39m(args) \u001b[39m>\u001b[39m num_allow_args:\n\u001b[1;32m    306\u001b[0m     warnings\u001b[39m.\u001b[39mwarn(\n\u001b[1;32m    307\u001b[0m         msg\u001b[39m.\u001b[39mformat(arguments\u001b[39m=\u001b[39marguments),\n\u001b[1;32m    308\u001b[0m         \u001b[39mFutureWarning\u001b[39;00m,\n\u001b[1;32m    309\u001b[0m         stacklevel\u001b[39m=\u001b[39mstacklevel,\n\u001b[1;32m    310\u001b[0m     )\n\u001b[0;32m--> 311\u001b[0m \u001b[39mreturn\u001b[39;00m func(\u001b[39m*\u001b[39;49margs, \u001b[39m*\u001b[39;49m\u001b[39m*\u001b[39;49mkwargs)\n",
      "File \u001b[0;32m~/opt/anaconda3/lib/python3.9/site-packages/pandas/core/frame.py:4954\u001b[0m, in \u001b[0;36mDataFrame.drop\u001b[0;34m(self, labels, axis, index, columns, level, inplace, errors)\u001b[0m\n\u001b[1;32m   4806\u001b[0m \u001b[39m@deprecate_nonkeyword_arguments\u001b[39m(version\u001b[39m=\u001b[39m\u001b[39mNone\u001b[39;00m, allowed_args\u001b[39m=\u001b[39m[\u001b[39m\"\u001b[39m\u001b[39mself\u001b[39m\u001b[39m\"\u001b[39m, \u001b[39m\"\u001b[39m\u001b[39mlabels\u001b[39m\u001b[39m\"\u001b[39m])\n\u001b[1;32m   4807\u001b[0m \u001b[39mdef\u001b[39;00m \u001b[39mdrop\u001b[39m(\n\u001b[1;32m   4808\u001b[0m     \u001b[39mself\u001b[39m,\n\u001b[0;32m   (...)\u001b[0m\n\u001b[1;32m   4815\u001b[0m     errors: \u001b[39mstr\u001b[39m \u001b[39m=\u001b[39m \u001b[39m\"\u001b[39m\u001b[39mraise\u001b[39m\u001b[39m\"\u001b[39m,\n\u001b[1;32m   4816\u001b[0m ):\n\u001b[1;32m   4817\u001b[0m     \u001b[39m\"\"\"\u001b[39;00m\n\u001b[1;32m   4818\u001b[0m \u001b[39m    Drop specified labels from rows or columns.\u001b[39;00m\n\u001b[1;32m   4819\u001b[0m \n\u001b[0;32m   (...)\u001b[0m\n\u001b[1;32m   4952\u001b[0m \u001b[39m            weight  1.0     0.8\u001b[39;00m\n\u001b[1;32m   4953\u001b[0m \u001b[39m    \"\"\"\u001b[39;00m\n\u001b[0;32m-> 4954\u001b[0m     \u001b[39mreturn\u001b[39;00m \u001b[39msuper\u001b[39;49m()\u001b[39m.\u001b[39;49mdrop(\n\u001b[1;32m   4955\u001b[0m         labels\u001b[39m=\u001b[39;49mlabels,\n\u001b[1;32m   4956\u001b[0m         axis\u001b[39m=\u001b[39;49maxis,\n\u001b[1;32m   4957\u001b[0m         index\u001b[39m=\u001b[39;49mindex,\n\u001b[1;32m   4958\u001b[0m         columns\u001b[39m=\u001b[39;49mcolumns,\n\u001b[1;32m   4959\u001b[0m         level\u001b[39m=\u001b[39;49mlevel,\n\u001b[1;32m   4960\u001b[0m         inplace\u001b[39m=\u001b[39;49minplace,\n\u001b[1;32m   4961\u001b[0m         errors\u001b[39m=\u001b[39;49merrors,\n\u001b[1;32m   4962\u001b[0m     )\n",
      "File \u001b[0;32m~/opt/anaconda3/lib/python3.9/site-packages/pandas/core/generic.py:4267\u001b[0m, in \u001b[0;36mNDFrame.drop\u001b[0;34m(self, labels, axis, index, columns, level, inplace, errors)\u001b[0m\n\u001b[1;32m   4265\u001b[0m \u001b[39mfor\u001b[39;00m axis, labels \u001b[39min\u001b[39;00m axes\u001b[39m.\u001b[39mitems():\n\u001b[1;32m   4266\u001b[0m     \u001b[39mif\u001b[39;00m labels \u001b[39mis\u001b[39;00m \u001b[39mnot\u001b[39;00m \u001b[39mNone\u001b[39;00m:\n\u001b[0;32m-> 4267\u001b[0m         obj \u001b[39m=\u001b[39m obj\u001b[39m.\u001b[39;49m_drop_axis(labels, axis, level\u001b[39m=\u001b[39;49mlevel, errors\u001b[39m=\u001b[39;49merrors)\n\u001b[1;32m   4269\u001b[0m \u001b[39mif\u001b[39;00m inplace:\n\u001b[1;32m   4270\u001b[0m     \u001b[39mself\u001b[39m\u001b[39m.\u001b[39m_update_inplace(obj)\n",
      "File \u001b[0;32m~/opt/anaconda3/lib/python3.9/site-packages/pandas/core/generic.py:4311\u001b[0m, in \u001b[0;36mNDFrame._drop_axis\u001b[0;34m(self, labels, axis, level, errors, consolidate, only_slice)\u001b[0m\n\u001b[1;32m   4309\u001b[0m         new_axis \u001b[39m=\u001b[39m axis\u001b[39m.\u001b[39mdrop(labels, level\u001b[39m=\u001b[39mlevel, errors\u001b[39m=\u001b[39merrors)\n\u001b[1;32m   4310\u001b[0m     \u001b[39melse\u001b[39;00m:\n\u001b[0;32m-> 4311\u001b[0m         new_axis \u001b[39m=\u001b[39m axis\u001b[39m.\u001b[39;49mdrop(labels, errors\u001b[39m=\u001b[39;49merrors)\n\u001b[1;32m   4312\u001b[0m     indexer \u001b[39m=\u001b[39m axis\u001b[39m.\u001b[39mget_indexer(new_axis)\n\u001b[1;32m   4314\u001b[0m \u001b[39m# Case for non-unique axis\u001b[39;00m\n\u001b[1;32m   4315\u001b[0m \u001b[39melse\u001b[39;00m:\n",
      "File \u001b[0;32m~/opt/anaconda3/lib/python3.9/site-packages/pandas/core/indexes/base.py:6644\u001b[0m, in \u001b[0;36mIndex.drop\u001b[0;34m(self, labels, errors)\u001b[0m\n\u001b[1;32m   6642\u001b[0m \u001b[39mif\u001b[39;00m mask\u001b[39m.\u001b[39many():\n\u001b[1;32m   6643\u001b[0m     \u001b[39mif\u001b[39;00m errors \u001b[39m!=\u001b[39m \u001b[39m\"\u001b[39m\u001b[39mignore\u001b[39m\u001b[39m\"\u001b[39m:\n\u001b[0;32m-> 6644\u001b[0m         \u001b[39mraise\u001b[39;00m \u001b[39mKeyError\u001b[39;00m(\u001b[39mf\u001b[39m\u001b[39m\"\u001b[39m\u001b[39m{\u001b[39;00m\u001b[39mlist\u001b[39m(labels[mask])\u001b[39m}\u001b[39;00m\u001b[39m not found in axis\u001b[39m\u001b[39m\"\u001b[39m)\n\u001b[1;32m   6645\u001b[0m     indexer \u001b[39m=\u001b[39m indexer[\u001b[39m~\u001b[39mmask]\n\u001b[1;32m   6646\u001b[0m \u001b[39mreturn\u001b[39;00m \u001b[39mself\u001b[39m\u001b[39m.\u001b[39mdelete(indexer)\n",
      "\u001b[0;31mKeyError\u001b[0m: \"['SpecialWinConditions', 'Stadium', 'City', 'Attendance'] not found in axis\""
     ]
    }
   ],
   "source": [
    "# Encoding categorical variables in the Matches dataset\n",
    "label_encoder = LabelEncoder()\n",
    "matches_df['HomeTeam_encoded'] = label_encoder.fit_transform(matches_df['HomeTeam'])\n",
    "matches_df['AwayTeam_encoded'] = label_encoder.fit_transform(matches_df['AwayTeam'])\n",
    "matches_df['Stage_encoded'] = label_encoder.fit_transform(matches_df['Stage'])\n",
    "\n",
    "# Creating a target variable for match outcome\n",
    "# 1 for HomeTeam win, 0 for draw, -1 for AwayTeam win\n",
    "matches_df['MatchOutcome'] = matches_df.apply(\n",
    "    lambda row: 1 if row['HomeTeamGoals'] > row['AwayTeamGoals'] else \n",
    "                (-1 if row['HomeTeamGoals'] < row['AwayTeamGoals'] else 0), \n",
    "    axis=1)\n",
    "\n",
    "# Dropping columns not used for prediction\n",
    "matches_df.drop(columns=['SpecialWinConditions', 'Stadium', 'City', 'Attendance'], inplace=True)\n",
    "\n",
    "\n",
    "# Verifying the dataset after dropping columns\n",
    "matches_df.head()\n",
    "\n",
    "\n",
    "# Checking the modified matches dataset\n",
    "matches_df.head()\n"
   ]
  },
  {
   "cell_type": "markdown",
   "metadata": {},
   "source": [
    "coded categorical variables: 'HomeTeam_encoded', 'AwayTeam_encoded', and 'Stage_encoded'.\n",
    "Target variable for match outcome: 'MatchOutcome' (1 for HomeTeam win, 0 for draw, -1 for AwayTeam win).\n",
    "Dropped unnecessary columns such as 'SpecialWinConditions', 'Stadium', 'City', and 'Attendance'."
   ]
  },
  {
   "cell_type": "code",
   "execution_count": 23,
   "metadata": {},
   "outputs": [
    {
     "data": {
      "text/plain": [
       "0      4\n",
       "2      0\n",
       "3      0\n",
       "4      0\n",
       "5      0\n",
       "      ..\n",
       "669    2\n",
       "670    4\n",
       "671    4\n",
       "672    5\n",
       "673    0\n",
       "Name: Stage_encoded, Length: 670, dtype: int64"
      ]
     },
     "execution_count": 23,
     "metadata": {},
     "output_type": "execute_result"
    }
   ],
   "source": [
    "matches_df.Stage_encoded"
   ]
  },
  {
   "cell_type": "markdown",
   "metadata": {},
   "source": [
    "## Building the predictive model"
   ]
  },
  {
   "cell_type": "code",
   "execution_count": 9,
   "metadata": {},
   "outputs": [
    {
     "data": {
      "text/plain": [
       "(0.472636815920398,\n",
       " '              precision    recall  f1-score   support\\n\\n          -1       0.25      0.18      0.21        33\\n           0       0.26      0.22      0.24        54\\n           1       0.59      0.68      0.63       114\\n\\n    accuracy                           0.47       201\\n   macro avg       0.37      0.36      0.36       201\\nweighted avg       0.44      0.47      0.46       201\\n')"
      ]
     },
     "execution_count": 9,
     "metadata": {},
     "output_type": "execute_result"
    }
   ],
   "source": [
    "# Preparing data for model\n",
    "X = matches_df[['HomeTeam_encoded', 'AwayTeam_encoded', 'Stage_encoded']]\n",
    "y = matches_df['MatchOutcome']\n",
    "\n",
    "# Splitting the data into train and test sets\n",
    "X_train, X_test, y_train, y_test = train_test_split(X, y, test_size=0.3, random_state=42)\n",
    "\n",
    "# Building the model - using Random Forest Classifier\n",
    "rf_model = RandomForestClassifier(n_estimators=100, random_state=42)\n",
    "rf_model.fit(X_train, y_train)\n",
    "\n",
    "# Predicting on test data\n",
    "y_pred = rf_model.predict(X_test)\n",
    "\n",
    "# Evaluating the model\n",
    "accuracy = accuracy_score(y_test, y_pred)\n",
    "classification_rep = classification_report(y_test, y_pred)\n",
    "\n",
    "(accuracy, classification_rep)\n"
   ]
  },
  {
   "cell_type": "markdown",
   "metadata": {},
   "source": [
    "The Random Forest Classifier model has been trained and evaluated. Here are the results:\n",
    "\n",
    "Accuracy: The model achieved an accuracy of approximately 47.26%. This indicates that the model correctly predicts the outcome of the games about 47% of the time.\n",
    "Classification Report:\n",
    "Precision, recall, and f1-score vary across the classes (-1 for AwayTeam win, 0 for draw, 1 for HomeTeam win).\n",
    "The model performs best in predicting HomeTeam wins (1), with a precision of 59% and a recall of 68%.\n",
    "These results suggest that the model has moderate predictive power. The performance might be improved by:\n",
    "\n",
    "Using more features: Incorporating more data like team statistics, player statistics, or historical performance.\n",
    "Hyperparameter tuning: Optimizing the parameters of the Random Forest model.\n",
    "Trying different models: Experimenting with other algorithms like Gradient Boosting or Logistic Regression."
   ]
  },
  {
   "cell_type": "markdown",
   "metadata": {},
   "source": [
    "## Save the model"
   ]
  },
  {
   "cell_type": "code",
   "execution_count": 22,
   "metadata": {},
   "outputs": [
    {
     "data": {
      "text/plain": [
       "'model/rf_afcon_prediction_model.joblib'"
      ]
     },
     "execution_count": 22,
     "metadata": {},
     "output_type": "execute_result"
    }
   ],
   "source": [
    "# Saving the model to a file\n",
    "model_filename = 'model/rf_afcon_prediction_model.joblib'\n",
    "joblib.dump(rf_model, model_filename)\n",
    "\n",
    "model_filename\n"
   ]
  },
  {
   "cell_type": "code",
   "execution_count": 10,
   "metadata": {},
   "outputs": [],
   "source": [
    "csv_file_path = 'datasets/matches3.csv'  # Specify your desired path and file name\n",
    "\n",
    "# Save the DataFrame to CSV\n",
    "matches_df.to_csv(csv_file_path, index=False)  # Set index=False if you do not want to save the index\n",
    "\n"
   ]
  }
 ],
 "metadata": {
  "kernelspec": {
   "display_name": "Python 3",
   "language": "python",
   "name": "python3"
  },
  "language_info": {
   "codemirror_mode": {
    "name": "ipython",
    "version": 3
   },
   "file_extension": ".py",
   "mimetype": "text/x-python",
   "name": "python",
   "nbconvert_exporter": "python",
   "pygments_lexer": "ipython3",
   "version": "3.9.12"
  }
 },
 "nbformat": 4,
 "nbformat_minor": 2
}
