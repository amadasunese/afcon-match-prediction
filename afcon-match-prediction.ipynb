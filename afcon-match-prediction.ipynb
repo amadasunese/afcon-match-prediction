{
 "cells": [
  {
   "cell_type": "markdown",
   "metadata": {},
   "source": [
    "## AFCON Match Outcome Predictor"
   ]
  },
  {
   "cell_type": "code",
   "execution_count": 15,
   "metadata": {},
   "outputs": [],
   "source": [
    "import pandas as pd\n",
    "from sklearn.preprocessing import LabelEncoder\n",
    "from sklearn.model_selection import train_test_split\n",
    "from sklearn.ensemble import RandomForestClassifier\n",
    "from sklearn.metrics import classification_report, accuracy_score\n",
    "import joblib"
   ]
  },
  {
   "cell_type": "code",
   "execution_count": 5,
   "metadata": {},
   "outputs": [
    {
     "data": {
      "text/plain": [
       "(   Year      Date  Time    HomeTeam       AwayTeam  HomeTeamGoals  \\\n",
       " 0  1957  10-Feb-57   NaN     Sudan           Egypt            1.0   \n",
       " 1  1957  10-Feb-57   NaN  Ethiopia    South Africa            NaN   \n",
       " 2  1957  16-Feb-57   NaN     Egypt        Ethiopia            4.0   \n",
       " 3  1959  22-May-59   NaN      Egypt       Ethiopia            4.0   \n",
       " 4  1959  25-May-59   NaN     Sudan        Ethiopia            1.0   \n",
       " \n",
       "    AwayTeamGoals             Stage  \\\n",
       " 0            2.0        Semifinals   \n",
       " 1            NaN        Semifinals   \n",
       " 2            0.0             Final   \n",
       " 3            0.0  Final Tournament   \n",
       " 4            0.0  Final Tournament   \n",
       " \n",
       "                                 SpecialWinConditions                Stadium  \\\n",
       " 0                                                NaN      Municipal Stadium   \n",
       " 1  Ethiopia  wins due to disqualification of othe...                    NaN   \n",
       " 2                                                NaN      Municipal Stadium   \n",
       " 3                                                NaN  Prince Farouk Stadium   \n",
       " 4                                                NaN  Prince Farouk Stadium   \n",
       " \n",
       "         City  Attendance  \n",
       " 0   Khartoum     30000.0  \n",
       " 1        NaN         NaN  \n",
       " 2   Khartoum     30000.0  \n",
       " 3      Cairo     30000.0  \n",
       " 4      Cairo     20000.0  ,\n",
       "    Unnamed: 0  Year ShirtNumber PlayerPosition                     PlayerName  \\\n",
       " 0           0  1957         NaN             GK                       Ali Bakr   \n",
       " 1           1  1957         NaN             GK  Paraskos \"Brascos\" Trimeritis   \n",
       " 2           2  1957         NaN             GK            Abdel-Galil Hameida   \n",
       " 3           3  1957         NaN             DF                   Mosaad Daoud   \n",
       " 4           4  1957         NaN             DF              El-Sayed El-Arabi   \n",
       " \n",
       "   DateofBirth(age) Caps Goals       Club Country  \n",
       " 0              NaN  NaN   NaN    Zamalek   Egypt  \n",
       " 1              NaN  NaN   NaN   El-Qanah   Egypt  \n",
       " 2              NaN  NaN   NaN    Al-Ahly   Egypt  \n",
       " 3              NaN  NaN   NaN  El-Olympi   Egypt  \n",
       " 4              NaN  NaN   NaN      Teram   Egypt  ,\n",
       "    Rank          Team  Part  Pld   W   D   L   GF   GA   GD  Pts\n",
       " 0     1  Egypt  [n 1]    25  107  60  20  27  168   90  +78  200\n",
       " 1     2         Ghana    23  102  54  21  27  133   87  +46  183\n",
       " 2     3       Nigeria    19   97  53  22  22  137   91  +46  181\n",
       " 3     4      Cameroon    20   91  45  30  16  137   82  +55  165\n",
       " 4     5   Ivory Coast    24   99  44  30  25  143  101  +42  162,\n",
       "    Year                                  Debuting teams Debuting teams.1  \\\n",
       " 0  Year                                           Teams              No.   \n",
       " 1  1957                    Egypt  ,  Ethiopia  ,  Sudan                3   \n",
       " 2  1962                              Tunisia  ,  Uganda                2   \n",
       " 3  1963                               Ghana  ,  Nigeria                2   \n",
       " 4  1965  Congo-Léopoldville  ,  Ivory Coast  ,  Senegal                3   \n",
       " \n",
       "   Debuting teams.2  \n",
       " 0             Cum.  \n",
       " 1                3  \n",
       " 2                5  \n",
       " 3                7  \n",
       " 4               10  )"
      ]
     },
     "execution_count": 5,
     "metadata": {},
     "output_type": "execute_result"
    }
   ],
   "source": [
    "# Load the datasets \n",
    "\n",
    "matches_df = pd.read_csv('datasets/Matches.csv')\n",
    "players_df = pd.read_csv('datasets/Players.csv')\n",
    "team_stats_df = pd.read_csv('datasets/Participated_Team.csv')\n",
    "tournament_stats_df = pd.read_csv('datasets/Tournaments.csv')\n",
    "\n",
    "# Displaying the first few rows of each dataset to understand their structure\n",
    "(matches_df.head(), players_df.head(), team_stats_df.head(), tournament_stats_df.head())"
   ]
  },
  {
   "cell_type": "markdown",
   "metadata": {},
   "source": [
    "Matches Dataset: This dataset includes details about each match, such as the year, date, teams involved, goals scored, and the match stage. Key columns are 'Year', 'HomeTeam', 'AwayTeam', 'HomeTeamGoals', 'AwayTeamGoals', etc.\n",
    "\n",
    "Players Dataset: This dataset lists players who participated in the tournament, including their positions, names, birth dates, caps, goals, clubs, and countries. Key columns include 'Year', 'PlayerPosition', 'PlayerName', 'Club', 'Country', etc.\n",
    "\n",
    "Team Statistics Dataset: This dataset provides general statistics for each team that participated in the tournaments, such as the number of times participated, games played, wins, draws, losses, goals for and against, etc. Key columns are 'Team', 'Part', 'Pld', 'W', 'D', 'L', 'GF', 'GA', 'GD', 'Pts'.\n",
    "\n",
    "Tournament Statistics Dataset: This dataset includes information about debut teams for each tournament year. Key columns are 'Year', 'Debuting teams'."
   ]
  },
  {
   "cell_type": "code",
   "execution_count": 7,
   "metadata": {},
   "outputs": [
    {
     "data": {
      "text/plain": [
       "Index(['Year', 'Date ', 'Time ', 'HomeTeam', 'AwayTeam', 'HomeTeamGoals',\n",
       "       'AwayTeamGoals', 'Stage', 'SpecialWinConditions', 'Stadium', 'City',\n",
       "       'Attendance'],\n",
       "      dtype='object')"
      ]
     },
     "execution_count": 7,
     "metadata": {},
     "output_type": "execute_result"
    }
   ],
   "source": [
    "matches_df.columns"
   ]
  },
  {
   "cell_type": "markdown",
   "metadata": {},
   "source": [
    "## Data preprocessing"
   ]
  },
  {
   "cell_type": "code",
   "execution_count": 9,
   "metadata": {},
   "outputs": [
    {
     "data": {
      "text/plain": [
       "(Year                             int64\n",
       " Date                            object\n",
       " Time                            object\n",
       " HomeTeam                        object\n",
       " AwayTeam                        object\n",
       " HomeTeamGoals                  float64\n",
       " AwayTeamGoals                  float64\n",
       " Stage                           object\n",
       " SpecialWinConditions            object\n",
       " Stadium                         object\n",
       " City                            object\n",
       " Attendance                     float64\n",
       " Date                    datetime64[ns]\n",
       " dtype: object,\n",
       " Unnamed: 0                   int64\n",
       " Year                         int64\n",
       " ShirtNumber                 object\n",
       " PlayerPosition              object\n",
       " PlayerName                  object\n",
       " DateofBirth(age)    datetime64[ns]\n",
       " Caps                        object\n",
       " Goals                       object\n",
       " Club                        object\n",
       " Country                     object\n",
       " dtype: object,\n",
       " Rank     int64\n",
       " Team    object\n",
       " Part     int64\n",
       " Pld      int64\n",
       " W        int64\n",
       " D        int64\n",
       " L        int64\n",
       " GF       int64\n",
       " GA       int64\n",
       " GD      object\n",
       " Pts      int64\n",
       " dtype: object,\n",
       " Year                object\n",
       " Debuting teams      object\n",
       " Debuting teams.1    object\n",
       " Debuting teams.2    object\n",
       " dtype: object,\n",
       " Year                      0\n",
       " Date                      0\n",
       " Time                    288\n",
       " HomeTeam                  0\n",
       " AwayTeam                  0\n",
       " HomeTeamGoals             0\n",
       " AwayTeamGoals             0\n",
       " Stage                     0\n",
       " SpecialWinConditions    612\n",
       " Stadium                   0\n",
       " City                      0\n",
       " Attendance              145\n",
       " Date                    136\n",
       " dtype: int64,\n",
       " Unnamed: 0             0\n",
       " Year                   0\n",
       " ShirtNumber         2466\n",
       " PlayerPosition       389\n",
       " PlayerName            42\n",
       " DateofBirth(age)    8146\n",
       " Caps                5445\n",
       " Goals               7142\n",
       " Club                 805\n",
       " Country                0\n",
       " dtype: int64,\n",
       " Rank    0\n",
       " Team    0\n",
       " Part    0\n",
       " Pld     0\n",
       " W       0\n",
       " D       0\n",
       " L       0\n",
       " GF      0\n",
       " GA      0\n",
       " GD      0\n",
       " Pts     0\n",
       " dtype: int64,\n",
       " Year                0\n",
       " Debuting teams      0\n",
       " Debuting teams.1    0\n",
       " Debuting teams.2    0\n",
       " dtype: int64)"
      ]
     },
     "execution_count": 9,
     "metadata": {},
     "output_type": "execute_result"
    }
   ],
   "source": [
    "# Handling missing values and data types in Matches dataset\n",
    "matches_df = matches_df.dropna(subset=['HomeTeamGoals', 'AwayTeamGoals'])\n",
    "matches_df['Date'] = pd.to_datetime(matches_df['Date '], errors='coerce')\n",
    "\n",
    "# For Players dataset, we might not need detailed player info for predicting match outcomes, but let's clean it\n",
    "players_df['DateofBirth(age)'] = pd.to_datetime(players_df['DateofBirth(age)'], errors='coerce')\n",
    "\n",
    "# For Team and Tournament stats\n",
    "# Removing unnecessary columns and cleaning data\n",
    "team_stats_df = team_stats_df.dropna()\n",
    "tournament_stats_df = tournament_stats_df.dropna()\n",
    "\n",
    "# Checking the data types and missing values after preprocessing\n",
    "(matches_df.dtypes, players_df.dtypes, team_stats_df.dtypes, tournament_stats_df.dtypes,\n",
    " matches_df.isnull().sum(), players_df.isnull().sum(), team_stats_df.isnull().sum(), tournament_stats_df.isnull().sum())\n"
   ]
  },
  {
   "cell_type": "markdown",
   "metadata": {},
   "source": [
    "atches Dataset:\n",
    "Converted 'Date' to datetime format.\n",
    "Removed rows with missing values in 'HomeTeamGoals' and 'AwayTeamGoals'.\n",
    "Some columns like 'Time', 'SpecialWinConditions', and 'Attendance' still have missing values, which might not be critical for our model.\n",
    "Players Dataset:\n",
    "Converted 'DateofBirth(age)' to datetime format.\n",
    "There are missing values in several columns, but for predicting match outcomes, we may not need detailed player info.\n",
    "Team Statistics Dataset:\n",
    "Cleaned and no missing values.\n",
    "Tournament Statistics Dataset:\n",
    "Cleaned and no missing values."
   ]
  },
  {
   "cell_type": "markdown",
   "metadata": {},
   "source": [
    "## Feature engineering"
   ]
  },
  {
   "cell_type": "code",
   "execution_count": 12,
   "metadata": {},
   "outputs": [
    {
     "data": {
      "text/html": [
       "<div>\n",
       "<style scoped>\n",
       "    .dataframe tbody tr th:only-of-type {\n",
       "        vertical-align: middle;\n",
       "    }\n",
       "\n",
       "    .dataframe tbody tr th {\n",
       "        vertical-align: top;\n",
       "    }\n",
       "\n",
       "    .dataframe thead th {\n",
       "        text-align: right;\n",
       "    }\n",
       "</style>\n",
       "<table border=\"1\" class=\"dataframe\">\n",
       "  <thead>\n",
       "    <tr style=\"text-align: right;\">\n",
       "      <th></th>\n",
       "      <th>Year</th>\n",
       "      <th>Date</th>\n",
       "      <th>Time</th>\n",
       "      <th>HomeTeam</th>\n",
       "      <th>AwayTeam</th>\n",
       "      <th>HomeTeamGoals</th>\n",
       "      <th>AwayTeamGoals</th>\n",
       "      <th>Stage</th>\n",
       "      <th>Date</th>\n",
       "      <th>HomeTeam_encoded</th>\n",
       "      <th>AwayTeam_encoded</th>\n",
       "      <th>Stage_encoded</th>\n",
       "      <th>MatchOutcome</th>\n",
       "    </tr>\n",
       "  </thead>\n",
       "  <tbody>\n",
       "    <tr>\n",
       "      <th>0</th>\n",
       "      <td>1957</td>\n",
       "      <td>10-Feb-57</td>\n",
       "      <td>NaN</td>\n",
       "      <td>Sudan</td>\n",
       "      <td>Egypt</td>\n",
       "      <td>1.0</td>\n",
       "      <td>2.0</td>\n",
       "      <td>Semifinals</td>\n",
       "      <td>2057-02-10</td>\n",
       "      <td>36</td>\n",
       "      <td>13</td>\n",
       "      <td>12</td>\n",
       "      <td>-1</td>\n",
       "    </tr>\n",
       "    <tr>\n",
       "      <th>2</th>\n",
       "      <td>1957</td>\n",
       "      <td>16-Feb-57</td>\n",
       "      <td>NaN</td>\n",
       "      <td>Egypt</td>\n",
       "      <td>Ethiopia</td>\n",
       "      <td>4.0</td>\n",
       "      <td>0.0</td>\n",
       "      <td>Final</td>\n",
       "      <td>2057-02-16</td>\n",
       "      <td>12</td>\n",
       "      <td>15</td>\n",
       "      <td>0</td>\n",
       "      <td>1</td>\n",
       "    </tr>\n",
       "    <tr>\n",
       "      <th>3</th>\n",
       "      <td>1959</td>\n",
       "      <td>22-May-59</td>\n",
       "      <td>NaN</td>\n",
       "      <td>Egypt</td>\n",
       "      <td>Ethiopia</td>\n",
       "      <td>4.0</td>\n",
       "      <td>0.0</td>\n",
       "      <td>Final Tournament</td>\n",
       "      <td>2059-05-22</td>\n",
       "      <td>11</td>\n",
       "      <td>15</td>\n",
       "      <td>1</td>\n",
       "      <td>1</td>\n",
       "    </tr>\n",
       "    <tr>\n",
       "      <th>4</th>\n",
       "      <td>1959</td>\n",
       "      <td>25-May-59</td>\n",
       "      <td>NaN</td>\n",
       "      <td>Sudan</td>\n",
       "      <td>Ethiopia</td>\n",
       "      <td>1.0</td>\n",
       "      <td>0.0</td>\n",
       "      <td>Final Tournament</td>\n",
       "      <td>2059-05-25</td>\n",
       "      <td>36</td>\n",
       "      <td>15</td>\n",
       "      <td>1</td>\n",
       "      <td>1</td>\n",
       "    </tr>\n",
       "    <tr>\n",
       "      <th>5</th>\n",
       "      <td>1959</td>\n",
       "      <td>29-May-59</td>\n",
       "      <td>NaN</td>\n",
       "      <td>Egypt</td>\n",
       "      <td>Sudan</td>\n",
       "      <td>2.0</td>\n",
       "      <td>1.0</td>\n",
       "      <td>Final Tournament</td>\n",
       "      <td>2059-05-29</td>\n",
       "      <td>11</td>\n",
       "      <td>38</td>\n",
       "      <td>1</td>\n",
       "      <td>1</td>\n",
       "    </tr>\n",
       "  </tbody>\n",
       "</table>\n",
       "</div>"
      ],
      "text/plain": [
       "   Year      Date  Time  HomeTeam   AwayTeam  HomeTeamGoals  AwayTeamGoals  \\\n",
       "0  1957  10-Feb-57   NaN   Sudan       Egypt            1.0            2.0   \n",
       "2  1957  16-Feb-57   NaN   Egypt    Ethiopia            4.0            0.0   \n",
       "3  1959  22-May-59   NaN    Egypt   Ethiopia            4.0            0.0   \n",
       "4  1959  25-May-59   NaN   Sudan    Ethiopia            1.0            0.0   \n",
       "5  1959  29-May-59   NaN    Egypt      Sudan            2.0            1.0   \n",
       "\n",
       "              Stage       Date  HomeTeam_encoded  AwayTeam_encoded  \\\n",
       "0        Semifinals 2057-02-10                36                13   \n",
       "2             Final 2057-02-16                12                15   \n",
       "3  Final Tournament 2059-05-22                11                15   \n",
       "4  Final Tournament 2059-05-25                36                15   \n",
       "5  Final Tournament 2059-05-29                11                38   \n",
       "\n",
       "   Stage_encoded  MatchOutcome  \n",
       "0             12            -1  \n",
       "2              0             1  \n",
       "3              1             1  \n",
       "4              1             1  \n",
       "5              1             1  "
      ]
     },
     "execution_count": 12,
     "metadata": {},
     "output_type": "execute_result"
    }
   ],
   "source": [
    "# Encoding categorical variables in the Matches dataset\n",
    "label_encoder = LabelEncoder()\n",
    "matches_df['HomeTeam_encoded'] = label_encoder.fit_transform(matches_df['HomeTeam'])\n",
    "matches_df['AwayTeam_encoded'] = label_encoder.fit_transform(matches_df['AwayTeam'])\n",
    "matches_df['Stage_encoded'] = label_encoder.fit_transform(matches_df['Stage'])\n",
    "\n",
    "# Creating a target variable for match outcome\n",
    "# 1 for HomeTeam win, 0 for draw, -1 for AwayTeam win\n",
    "matches_df['MatchOutcome'] = matches_df.apply(\n",
    "    lambda row: 1 if row['HomeTeamGoals'] > row['AwayTeamGoals'] else \n",
    "                (-1 if row['HomeTeamGoals'] < row['AwayTeamGoals'] else 0), \n",
    "    axis=1)\n",
    "\n",
    "# Dropping columns not used for prediction\n",
    "matches_df.drop(columns=['SpecialWinConditions', 'Stadium', 'City', 'Attendance'], inplace=True)\n",
    "\n",
    "\n",
    "# Verifying the dataset after dropping columns\n",
    "matches_df.head()\n",
    "\n",
    "\n",
    "# Checking the modified matches dataset\n",
    "matches_df.head()\n"
   ]
  },
  {
   "cell_type": "markdown",
   "metadata": {},
   "source": [
    "coded categorical variables: 'HomeTeam_encoded', 'AwayTeam_encoded', and 'Stage_encoded'.\n",
    "Target variable for match outcome: 'MatchOutcome' (1 for HomeTeam win, 0 for draw, -1 for AwayTeam win).\n",
    "Dropped unnecessary columns such as 'SpecialWinConditions', 'Stadium', 'City', and 'Attendance'."
   ]
  },
  {
   "cell_type": "markdown",
   "metadata": {},
   "source": [
    "## Building the predictive model"
   ]
  },
  {
   "cell_type": "code",
   "execution_count": 14,
   "metadata": {},
   "outputs": [
    {
     "data": {
      "text/plain": [
       "(0.472636815920398,\n",
       " '              precision    recall  f1-score   support\\n\\n          -1       0.25      0.18      0.21        33\\n           0       0.26      0.22      0.24        54\\n           1       0.59      0.68      0.63       114\\n\\n    accuracy                           0.47       201\\n   macro avg       0.37      0.36      0.36       201\\nweighted avg       0.44      0.47      0.46       201\\n')"
      ]
     },
     "execution_count": 14,
     "metadata": {},
     "output_type": "execute_result"
    }
   ],
   "source": [
    "# Preparing data for model\n",
    "X = matches_df[['HomeTeam_encoded', 'AwayTeam_encoded', 'Stage_encoded']]\n",
    "y = matches_df['MatchOutcome']\n",
    "\n",
    "# Splitting the data into train and test sets\n",
    "X_train, X_test, y_train, y_test = train_test_split(X, y, test_size=0.3, random_state=42)\n",
    "\n",
    "# Building the model - using Random Forest Classifier\n",
    "rf_model = RandomForestClassifier(n_estimators=100, random_state=42)\n",
    "rf_model.fit(X_train, y_train)\n",
    "\n",
    "# Predicting on test data\n",
    "y_pred = rf_model.predict(X_test)\n",
    "\n",
    "# Evaluating the model\n",
    "accuracy = accuracy_score(y_test, y_pred)\n",
    "classification_rep = classification_report(y_test, y_pred)\n",
    "\n",
    "(accuracy, classification_rep)\n"
   ]
  },
  {
   "cell_type": "markdown",
   "metadata": {},
   "source": [
    "The Random Forest Classifier model has been trained and evaluated. Here are the results:\n",
    "\n",
    "Accuracy: The model achieved an accuracy of approximately 47.26%. This indicates that the model correctly predicts the outcome of the games about 47% of the time.\n",
    "Classification Report:\n",
    "Precision, recall, and f1-score vary across the classes (-1 for AwayTeam win, 0 for draw, 1 for HomeTeam win).\n",
    "The model performs best in predicting HomeTeam wins (1), with a precision of 59% and a recall of 68%.\n",
    "These results suggest that the model has moderate predictive power. The performance might be improved by:\n",
    "\n",
    "Using more features: Incorporating more data like team statistics, player statistics, or historical performance.\n",
    "Hyperparameter tuning: Optimizing the parameters of the Random Forest model.\n",
    "Trying different models: Experimenting with other algorithms like Gradient Boosting or Logistic Regression."
   ]
  },
  {
   "cell_type": "markdown",
   "metadata": {},
   "source": [
    "## Save the model"
   ]
  },
  {
   "cell_type": "code",
   "execution_count": 18,
   "metadata": {},
   "outputs": [
    {
     "data": {
      "text/plain": [
       "'model/rf_afcon_prediction_model.joblib'"
      ]
     },
     "execution_count": 18,
     "metadata": {},
     "output_type": "execute_result"
    }
   ],
   "source": [
    "# Saving the model to a file\n",
    "model_filename = 'model/rf_afcon_prediction_model.joblib'\n",
    "joblib.dump(rf_model, model_filename)\n",
    "\n",
    "model_filename\n"
   ]
  }
 ],
 "metadata": {
  "kernelspec": {
   "display_name": "Python 3",
   "language": "python",
   "name": "python3"
  },
  "language_info": {
   "codemirror_mode": {
    "name": "ipython",
    "version": 3
   },
   "file_extension": ".py",
   "mimetype": "text/x-python",
   "name": "python",
   "nbconvert_exporter": "python",
   "pygments_lexer": "ipython3",
   "version": "3.9.12"
  }
 },
 "nbformat": 4,
 "nbformat_minor": 2
}
